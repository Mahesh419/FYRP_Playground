{
 "cells": [
  {
   "cell_type": "code",
   "execution_count": 209,
   "metadata": {},
   "outputs": [],
   "source": [
    "import pandas as pd\n",
    "import numpy as np\n",
    "import matplotlib.pyplot as plt\n",
    "import seaborn as sns\n",
    "%matplotlib inline\n",
    "sns.set_style('whitegrid')"
   ]
  },
  {
   "cell_type": "code",
   "execution_count": 210,
   "metadata": {},
   "outputs": [],
   "source": [
    "df = pd.read_excel('racist_dataset.xlsx');\n",
    "df = df.dropna();"
   ]
  },
  {
   "cell_type": "code",
   "execution_count": 211,
   "metadata": {},
   "outputs": [
    {
     "data": {
      "text/html": [
       "<div>\n",
       "<style scoped>\n",
       "    .dataframe tbody tr th:only-of-type {\n",
       "        vertical-align: middle;\n",
       "    }\n",
       "\n",
       "    .dataframe tbody tr th {\n",
       "        vertical-align: top;\n",
       "    }\n",
       "\n",
       "    .dataframe thead th {\n",
       "        text-align: right;\n",
       "    }\n",
       "</style>\n",
       "<table border=\"1\" class=\"dataframe\">\n",
       "  <thead>\n",
       "    <tr style=\"text-align: right;\">\n",
       "      <th></th>\n",
       "      <th>comment</th>\n",
       "      <th>label</th>\n",
       "    </tr>\n",
       "  </thead>\n",
       "  <tbody>\n",
       "    <tr>\n",
       "      <th>0</th>\n",
       "      <td>තම්බි දැනගනිල්ලා. යකෝ හමුදුරුවෝ හදන්නේ මෙක අවු...</td>\n",
       "      <td>1</td>\n",
       "    </tr>\n",
       "    <tr>\n",
       "      <th>1</th>\n",
       "      <td>මුස්ලිම් ආගම ස්භාව දහමටත් මනුෂ්‍යත්වයටත් විරැද...</td>\n",
       "      <td>1</td>\n",
       "    </tr>\n",
       "    <tr>\n",
       "      <th>2</th>\n",
       "      <td>අපිට මේ සිද්දියෙන් පිලිතුරක් ඔනේ මුස්ලිම් ආගම ...</td>\n",
       "      <td>1</td>\n",
       "    </tr>\n",
       "    <tr>\n",
       "      <th>3</th>\n",
       "      <td>තම්බි කෙලොගන්න හදන්නෙ...කට පියාගන හිටපියව්</td>\n",
       "      <td>1</td>\n",
       "    </tr>\n",
       "    <tr>\n",
       "      <th>5</th>\n",
       "      <td>ඔහොම හරියන්නෙ නෑ තම්බි ටික සමූල ගාතනයක් කරමු උ...</td>\n",
       "      <td>1</td>\n",
       "    </tr>\n",
       "  </tbody>\n",
       "</table>\n",
       "</div>"
      ],
      "text/plain": [
       "                                             comment  label\n",
       "0  තම්බි දැනගනිල්ලා. යකෝ හමුදුරුවෝ හදන්නේ මෙක අවු...      1\n",
       "1  මුස්ලිම් ආගම ස්භාව දහමටත් මනුෂ්‍යත්වයටත් විරැද...      1\n",
       "2  අපිට මේ සිද්දියෙන් පිලිතුරක් ඔනේ මුස්ලිම් ආගම ...      1\n",
       "3         තම්බි කෙලොගන්න හදන්නෙ...කට පියාගන හිටපියව්      1\n",
       "5  ඔහොම හරියන්නෙ නෑ තම්බි ටික සමූල ගාතනයක් කරමු උ...      1"
      ]
     },
     "execution_count": 211,
     "metadata": {},
     "output_type": "execute_result"
    }
   ],
   "source": [
    "col_name = ['comment', 'label']\n",
    "df.columns = col_name\n",
    "df.head()"
   ]
  },
  {
   "cell_type": "code",
   "execution_count": 212,
   "metadata": {},
   "outputs": [],
   "source": [
    "from sklearn.model_selection import train_test_split"
   ]
  },
  {
   "cell_type": "code",
   "execution_count": 213,
   "metadata": {},
   "outputs": [],
   "source": [
    "X = df['comment'].str.strip();\n",
    "y = df['label'];\n",
    "\n",
    "X_train, X_test, y_train, y_test = train_test_split(X, y, test_size = 0.3, random_state=9)"
   ]
  },
  {
   "cell_type": "markdown",
   "metadata": {},
   "source": [
    "## Using NGRAM"
   ]
  },
  {
   "cell_type": "code",
   "execution_count": 214,
   "metadata": {},
   "outputs": [],
   "source": [
    "from sklearn.feature_extraction.text import CountVectorizer\n",
    "\n",
    "# If you want to take into account just term frequencies:\n",
    "vectorizer = CountVectorizer(ngram_range=(1, 2))\n",
    "# The ngram range specifies your ngram configuration.\n",
    "\n",
    "X_train_ngram = vectorizer.fit_transform(X_train)\n",
    "# Testing the ngram generation:\n",
    "#print(vectorizer.get_feature_names())\n",
    "# This will print: ['by car', 'by jack', 'car was', 'cleaned by', 'jack was', 'was cleaned']\n",
    "\n",
    "#print(X.toarray())\n",
    "# This will print:[[0 1 1 1 0 1], [1 0 0 1 1 1]]\n",
    "\n",
    "X_train_arr = X_train_ngram.toarray();"
   ]
  },
  {
   "cell_type": "code",
   "execution_count": 215,
   "metadata": {},
   "outputs": [],
   "source": [
    "X_test_ngram = vectorizer.transform(X_test) \n",
    "X_test_arr = X_test_ngram.toarray()"
   ]
  },
  {
   "cell_type": "code",
   "execution_count": 216,
   "metadata": {},
   "outputs": [],
   "source": [
    "from sklearn import svm"
   ]
  },
  {
   "cell_type": "code",
   "execution_count": 217,
   "metadata": {},
   "outputs": [],
   "source": [
    "C = 0.7\n",
    "clf = svm.SVC(kernel='linear', C=C)"
   ]
  },
  {
   "cell_type": "code",
   "execution_count": 218,
   "metadata": {},
   "outputs": [
    {
     "data": {
      "text/plain": [
       "SVC(C=0.7, cache_size=200, class_weight=None, coef0=0.0,\n",
       "  decision_function_shape='ovr', degree=3, gamma='auto_deprecated',\n",
       "  kernel='linear', max_iter=-1, probability=False, random_state=None,\n",
       "  shrinking=True, tol=0.001, verbose=False)"
      ]
     },
     "execution_count": 218,
     "metadata": {},
     "output_type": "execute_result"
    }
   ],
   "source": [
    "clf.fit(X_train_arr, y_train)"
   ]
  },
  {
   "cell_type": "code",
   "execution_count": 219,
   "metadata": {},
   "outputs": [],
   "source": [
    "from sklearn.model_selection import cross_val_score\n",
    "from sklearn.model_selection import cross_val_predict\n",
    "from sklearn.metrics import confusion_matrix\n",
    "from sklearn.metrics import precision_score, recall_score, f1_score"
   ]
  },
  {
   "cell_type": "code",
   "execution_count": 220,
   "metadata": {},
   "outputs": [
    {
     "name": "stdout",
     "output_type": "stream",
     "text": [
      "Average Accuarcy: \t 0.7623\n",
      "Accuarcy SD: \t\t 0.1281\n"
     ]
    }
   ],
   "source": [
    "res = cross_val_score(clf, X_train_arr, y_train, cv=10, scoring='accuracy')\n",
    "print('Average Accuarcy: \\t {0:.4f}'.format(np.mean(res)))\n",
    "print('Accuarcy SD: \\t\\t {0:.4f}'.format(np.std(res)))"
   ]
  },
  {
   "cell_type": "code",
   "execution_count": 221,
   "metadata": {},
   "outputs": [],
   "source": [
    "y_train_pred = cross_val_predict(clf, X_train_arr, y_train, cv=3)"
   ]
  },
  {
   "cell_type": "code",
   "execution_count": 222,
   "metadata": {},
   "outputs": [
    {
     "data": {
      "text/plain": [
       "array([[95,  7],\n",
       "       [34, 29]])"
      ]
     },
     "execution_count": 222,
     "metadata": {},
     "output_type": "execute_result"
    }
   ],
   "source": [
    "confusion_matrix(y_train, y_train_pred)"
   ]
  },
  {
   "cell_type": "code",
   "execution_count": 223,
   "metadata": {},
   "outputs": [
    {
     "name": "stdout",
     "output_type": "stream",
     "text": [
      "Precision score: \t 0.7628\n",
      "Recall score: \t 0.7515\n",
      "F1 score: \t 0.7322\n"
     ]
    }
   ],
   "source": [
    "print('Precision score: \\t {0:0.4f}'.format(precision_score(y_train, \n",
    "                                                          y_train_pred, \n",
    "                                                          average='weighted')))\n",
    "print('Recall score: \\t {0:0.4f}'.format(recall_score(y_train, \n",
    "                                                          y_train_pred, \n",
    "                                                          average='weighted')))\n",
    "print('F1 score: \\t {0:0.4f}'.format(f1_score(y_train, \n",
    "                                                          y_train_pred, \n",
    "                                                          average='weighted')))"
   ]
  },
  {
   "cell_type": "code",
   "execution_count": 224,
   "metadata": {},
   "outputs": [],
   "source": [
    "y_test_pred = cross_val_predict(clf, X_test_arr, y_test, cv=3)"
   ]
  },
  {
   "cell_type": "code",
   "execution_count": 225,
   "metadata": {},
   "outputs": [
    {
     "data": {
      "text/plain": [
       "array([[31,  5],\n",
       "       [14, 21]])"
      ]
     },
     "execution_count": 225,
     "metadata": {},
     "output_type": "execute_result"
    }
   ],
   "source": [
    "confusion_matrix(y_test, y_test_pred)"
   ]
  },
  {
   "cell_type": "code",
   "execution_count": 226,
   "metadata": {},
   "outputs": [
    {
     "name": "stdout",
     "output_type": "stream",
     "text": [
      "Precision score: \t 0.8077\n",
      "Recall score: \t 0.6000\n",
      "F1 score: \t 0.6885\n"
     ]
    }
   ],
   "source": [
    "print('Precision score: \\t {0:0.4f}'.format(precision_score(y_test, \n",
    "                                               y_test_pred)))\n",
    "print('Recall score: \\t {0:0.4f}'.format(recall_score(y_test, \n",
    "                                             y_test_pred)))\n",
    "print('F1 score: \\t {0:0.4f}'.format(f1_score(y_test, \n",
    "                                             y_test_pred)))"
   ]
  },
  {
   "cell_type": "code",
   "execution_count": 227,
   "metadata": {},
   "outputs": [
    {
     "name": "stdout",
     "output_type": "stream",
     "text": [
      "Hate\n"
     ]
    }
   ],
   "source": [
    "# review = np.array(['ගෙරි හම්බයා'])\n",
    "# review = np.array(['ඒ උනාට සිංහල නෑනෙ'])\n",
    "# review = np.array(['ඉල්ලන දෙයක් දෙන්නම් මට සහය දෙන්න'])\n",
    "# review = np.array(['සිංහල'])\n",
    "review = np.array(['ඔහොම හරියන්නෙ නෑ තම්බි ටික සමූල ගාතනයක් කරමු'])\n",
    "\n",
    "review.reshape(-1, 1)\n",
    "\n",
    "res = clf.predict(vectorizer.transform(review).toarray())\n",
    "\n",
    "if (res == 1):\n",
    "    print('Hate')\n",
    "else:\n",
    "    print('Non hate')    "
   ]
  },
  {
   "cell_type": "code",
   "execution_count": null,
   "metadata": {},
   "outputs": [],
   "source": []
  },
  {
   "cell_type": "markdown",
   "metadata": {},
   "source": [
    "## Using TF-IDF with NGRAM (With normalization)"
   ]
  },
  {
   "cell_type": "code",
   "execution_count": 228,
   "metadata": {},
   "outputs": [],
   "source": [
    "from sklearn.feature_extraction.text import TfidfVectorizer"
   ]
  },
  {
   "cell_type": "code",
   "execution_count": 229,
   "metadata": {},
   "outputs": [],
   "source": [
    "## And now testing TFIDF vectorizer:\n",
    "vectorizer = TfidfVectorizer(ngram_range=(1, 2), norm=None) # You can still specify n-grams here.\n",
    "X_train_vec = vectorizer.fit_transform(X_train)"
   ]
  },
  {
   "cell_type": "code",
   "execution_count": 230,
   "metadata": {},
   "outputs": [],
   "source": [
    "X_test_vec = vectorizer.transform(X_test)"
   ]
  },
  {
   "cell_type": "code",
   "execution_count": 231,
   "metadata": {},
   "outputs": [],
   "source": [
    "from sklearn import svm"
   ]
  },
  {
   "cell_type": "code",
   "execution_count": 232,
   "metadata": {},
   "outputs": [],
   "source": [
    "C = 0.7\n",
    "clf = svm.SVC(kernel='linear', C=C)"
   ]
  },
  {
   "cell_type": "code",
   "execution_count": 233,
   "metadata": {},
   "outputs": [
    {
     "data": {
      "text/plain": [
       "SVC(C=0.7, cache_size=200, class_weight=None, coef0=0.0,\n",
       "  decision_function_shape='ovr', degree=3, gamma='auto_deprecated',\n",
       "  kernel='linear', max_iter=-1, probability=False, random_state=None,\n",
       "  shrinking=True, tol=0.001, verbose=False)"
      ]
     },
     "execution_count": 233,
     "metadata": {},
     "output_type": "execute_result"
    }
   ],
   "source": [
    "clf.fit(X_train_vec, y_train)"
   ]
  },
  {
   "cell_type": "code",
   "execution_count": 234,
   "metadata": {},
   "outputs": [],
   "source": [
    "from sklearn.model_selection import cross_val_score\n",
    "from sklearn.model_selection import cross_val_predict\n",
    "from sklearn.metrics import confusion_matrix\n",
    "from sklearn.metrics import precision_score, recall_score, f1_score"
   ]
  },
  {
   "cell_type": "code",
   "execution_count": 235,
   "metadata": {},
   "outputs": [
    {
     "name": "stdout",
     "output_type": "stream",
     "text": [
      "Average Accuarcy: \t 0.7331\n",
      "Accuarcy SD: \t\t 0.0842\n"
     ]
    }
   ],
   "source": [
    "res = cross_val_score(clf, X_train_vec, y_train, cv=10, scoring='accuracy')\n",
    "print('Average Accuarcy: \\t {0:.4f}'.format(np.mean(res)))\n",
    "print('Accuarcy SD: \\t\\t {0:.4f}'.format(np.std(res)))"
   ]
  },
  {
   "cell_type": "code",
   "execution_count": 236,
   "metadata": {},
   "outputs": [],
   "source": [
    "y_train_pred = cross_val_predict(clf, X_train_vec, y_train, cv=3)"
   ]
  },
  {
   "cell_type": "code",
   "execution_count": 237,
   "metadata": {},
   "outputs": [
    {
     "data": {
      "text/plain": [
       "array([[96,  6],\n",
       "       [40, 23]])"
      ]
     },
     "execution_count": 237,
     "metadata": {},
     "output_type": "execute_result"
    }
   ],
   "source": [
    "confusion_matrix(y_train, y_train_pred)"
   ]
  },
  {
   "cell_type": "code",
   "execution_count": 238,
   "metadata": {},
   "outputs": [
    {
     "name": "stdout",
     "output_type": "stream",
     "text": [
      "Precision score: \t 0.7392\n",
      "Recall score: \t 0.7212\n",
      "F1 score: \t 0.6896\n"
     ]
    }
   ],
   "source": [
    "print('Precision score: \\t {0:0.4f}'.format(precision_score(y_train, \n",
    "                                                          y_train_pred, \n",
    "                                                          average='weighted')))\n",
    "print('Recall score: \\t {0:0.4f}'.format(recall_score(y_train, \n",
    "                                                          y_train_pred, \n",
    "                                                          average='weighted')))\n",
    "print('F1 score: \\t {0:0.4f}'.format(f1_score(y_train, \n",
    "                                                          y_train_pred, \n",
    "                                                          average='weighted')))"
   ]
  },
  {
   "cell_type": "code",
   "execution_count": 239,
   "metadata": {},
   "outputs": [],
   "source": [
    "y_test_pred = cross_val_predict(clf, X_test_vec, y_test, cv=3)"
   ]
  },
  {
   "cell_type": "code",
   "execution_count": 240,
   "metadata": {},
   "outputs": [
    {
     "data": {
      "text/plain": [
       "array([[32,  4],\n",
       "       [20, 15]])"
      ]
     },
     "execution_count": 240,
     "metadata": {},
     "output_type": "execute_result"
    }
   ],
   "source": [
    "confusion_matrix(y_test, y_test_pred)"
   ]
  },
  {
   "cell_type": "code",
   "execution_count": 241,
   "metadata": {},
   "outputs": [
    {
     "name": "stdout",
     "output_type": "stream",
     "text": [
      "Precision score: \t 0.7895\n",
      "Recall score: \t 0.4286\n",
      "F1 score: \t 0.5556\n"
     ]
    }
   ],
   "source": [
    "print('Precision score: \\t {0:0.4f}'.format(precision_score(y_test, \n",
    "                                               y_test_pred)))\n",
    "print('Recall score: \\t {0:0.4f}'.format(recall_score(y_test, \n",
    "                                             y_test_pred)))\n",
    "print('F1 score: \\t {0:0.4f}'.format(f1_score(y_test, \n",
    "                                             y_test_pred)))"
   ]
  },
  {
   "cell_type": "code",
   "execution_count": 242,
   "metadata": {},
   "outputs": [
    {
     "name": "stdout",
     "output_type": "stream",
     "text": [
      "Hate\n"
     ]
    }
   ],
   "source": [
    "# review = np.array(['ගෙරි හම්බයා'])\n",
    "# review = np.array(['ඒ උනාට සිංහල නෑනෙ'])\n",
    "# review = np.array(['ඉල්ලන දෙයක් දෙන්නම් මට සහය දෙන්න'])\n",
    "# review = np.array(['සිංහල'])\n",
    "review = np.array(['ඔහොම හරියන්නෙ නෑ තම්බි ටික සමූල ගාතනයක් කරමු'])\n",
    "\n",
    "review.reshape(-1, 1)\n",
    "\n",
    "res = clf.predict(vectorizer.transform(review))\n",
    "\n",
    "if (res == 1):\n",
    "    print('Hate')\n",
    "else:\n",
    "    print('Non hate')"
   ]
  },
  {
   "cell_type": "code",
   "execution_count": null,
   "metadata": {},
   "outputs": [],
   "source": []
  },
  {
   "cell_type": "code",
   "execution_count": null,
   "metadata": {},
   "outputs": [],
   "source": []
  },
  {
   "cell_type": "code",
   "execution_count": null,
   "metadata": {},
   "outputs": [],
   "source": []
  },
  {
   "cell_type": "code",
   "execution_count": null,
   "metadata": {},
   "outputs": [],
   "source": []
  }
 ],
 "metadata": {
  "kernelspec": {
   "display_name": "tensorflow_dev",
   "language": "python",
   "name": "tensorflow_dev"
  },
  "language_info": {
   "codemirror_mode": {
    "name": "ipython",
    "version": 3
   },
   "file_extension": ".py",
   "mimetype": "text/x-python",
   "name": "python",
   "nbconvert_exporter": "python",
   "pygments_lexer": "ipython3",
   "version": "3.6.8"
  }
 },
 "nbformat": 4,
 "nbformat_minor": 2
}
