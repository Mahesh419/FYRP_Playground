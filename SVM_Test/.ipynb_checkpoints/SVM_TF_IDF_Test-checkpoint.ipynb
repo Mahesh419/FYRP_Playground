{
 "cells": [
  {
   "cell_type": "code",
   "execution_count": 260,
   "metadata": {},
   "outputs": [],
   "source": [
    "import pandas as pd\n",
    "import numpy as np\n",
    "import matplotlib.pyplot as plt\n",
    "import seaborn as sns\n",
    "%matplotlib inline\n",
    "sns.set_style('whitegrid')"
   ]
  },
  {
   "cell_type": "code",
   "execution_count": 261,
   "metadata": {
    "scrolled": true
   },
   "outputs": [
    {
     "data": {
      "text/html": [
       "<div>\n",
       "<style scoped>\n",
       "    .dataframe tbody tr th:only-of-type {\n",
       "        vertical-align: middle;\n",
       "    }\n",
       "\n",
       "    .dataframe tbody tr th {\n",
       "        vertical-align: top;\n",
       "    }\n",
       "\n",
       "    .dataframe thead th {\n",
       "        text-align: right;\n",
       "    }\n",
       "</style>\n",
       "<table border=\"1\" class=\"dataframe\">\n",
       "  <thead>\n",
       "    <tr style=\"text-align: right;\">\n",
       "      <th></th>\n",
       "      <th>ඉන්න බෑ සිංහලුනේ ඇඟේ ලේ නටනවා එකා පිට ගිහින් හරි acca ගිහින් හරි මේ සිංහල රටේ අනාගත පරපුර වෙනුවෙන් අපි ඉතුරු කරන්න ඕන</th>\n",
       "      <th>1</th>\n",
       "    </tr>\n",
       "  </thead>\n",
       "  <tbody>\n",
       "    <tr>\n",
       "      <th>0</th>\n",
       "      <td>තම්බි දැනගනිල්ලා. යකෝ හමුදුරුවෝ හදන්නේ මෙක අවු...</td>\n",
       "      <td>1</td>\n",
       "    </tr>\n",
       "    <tr>\n",
       "      <th>1</th>\n",
       "      <td>මුස්ලිම් ආගම ස්භාව දහමටත් මනුෂ්‍යත්වයටත් විරැද...</td>\n",
       "      <td>1</td>\n",
       "    </tr>\n",
       "    <tr>\n",
       "      <th>2</th>\n",
       "      <td>අපිට මේ සිද්දියෙන් පිලිතුරක් ඔනේ මුස්ලිම් ආගම ...</td>\n",
       "      <td>1</td>\n",
       "    </tr>\n",
       "    <tr>\n",
       "      <th>3</th>\n",
       "      <td>තම්බි කෙලොගන්න හදන්නෙ...කට පියාගන හිටපියව්</td>\n",
       "      <td>1</td>\n",
       "    </tr>\n",
       "    <tr>\n",
       "      <th>5</th>\n",
       "      <td>ඔහොම හරියන්නෙ නෑ තම්බි ටික සමූල ගාතනයක් කරමු උ...</td>\n",
       "      <td>1</td>\n",
       "    </tr>\n",
       "  </tbody>\n",
       "</table>\n",
       "</div>"
      ],
      "text/plain": [
       "  ඉන්න බෑ සිංහලුනේ ඇඟේ ලේ නටනවා එකා පිට ගිහින් හරි acca ගිහින් හරි මේ සිංහල රටේ අනාගත පරපුර වෙනුවෙන් අපි ඉතුරු කරන්න ඕන  \\\n",
       "0  තම්බි දැනගනිල්ලා. යකෝ හමුදුරුවෝ හදන්නේ මෙක අවු...                                                                      \n",
       "1  මුස්ලිම් ආගම ස්භාව දහමටත් මනුෂ්‍යත්වයටත් විරැද...                                                                      \n",
       "2  අපිට මේ සිද්දියෙන් පිලිතුරක් ඔනේ මුස්ලිම් ආගම ...                                                                      \n",
       "3         තම්බි කෙලොගන්න හදන්නෙ...කට පියාගන හිටපියව්                                                                      \n",
       "5  ඔහොම හරියන්නෙ නෑ තම්බි ටික සමූල ගාතනයක් කරමු උ...                                                                      \n",
       "\n",
       "   1  \n",
       "0  1  \n",
       "1  1  \n",
       "2  1  \n",
       "3  1  \n",
       "5  1  "
      ]
     },
     "execution_count": 261,
     "metadata": {},
     "output_type": "execute_result"
    }
   ],
   "source": [
    "df = pd.read_excel('racist_dataset.xlsx');\n",
    "df = df.dropna()\n",
    "df.head()"
   ]
  },
  {
   "cell_type": "code",
   "execution_count": 262,
   "metadata": {
    "scrolled": true
   },
   "outputs": [
    {
     "data": {
      "text/html": [
       "<div>\n",
       "<style scoped>\n",
       "    .dataframe tbody tr th:only-of-type {\n",
       "        vertical-align: middle;\n",
       "    }\n",
       "\n",
       "    .dataframe tbody tr th {\n",
       "        vertical-align: top;\n",
       "    }\n",
       "\n",
       "    .dataframe thead th {\n",
       "        text-align: right;\n",
       "    }\n",
       "</style>\n",
       "<table border=\"1\" class=\"dataframe\">\n",
       "  <thead>\n",
       "    <tr style=\"text-align: right;\">\n",
       "      <th></th>\n",
       "      <th>comment</th>\n",
       "      <th>label</th>\n",
       "    </tr>\n",
       "  </thead>\n",
       "  <tbody>\n",
       "    <tr>\n",
       "      <th>0</th>\n",
       "      <td>තම්බි දැනගනිල්ලා. යකෝ හමුදුරුවෝ හදන්නේ මෙක අවු...</td>\n",
       "      <td>1</td>\n",
       "    </tr>\n",
       "    <tr>\n",
       "      <th>1</th>\n",
       "      <td>මුස්ලිම් ආගම ස්භාව දහමටත් මනුෂ්‍යත්වයටත් විරැද...</td>\n",
       "      <td>1</td>\n",
       "    </tr>\n",
       "    <tr>\n",
       "      <th>2</th>\n",
       "      <td>අපිට මේ සිද්දියෙන් පිලිතුරක් ඔනේ මුස්ලිම් ආගම ...</td>\n",
       "      <td>1</td>\n",
       "    </tr>\n",
       "    <tr>\n",
       "      <th>3</th>\n",
       "      <td>තම්බි කෙලොගන්න හදන්නෙ...කට පියාගන හිටපියව්</td>\n",
       "      <td>1</td>\n",
       "    </tr>\n",
       "    <tr>\n",
       "      <th>5</th>\n",
       "      <td>ඔහොම හරියන්නෙ නෑ තම්බි ටික සමූල ගාතනයක් කරමු උ...</td>\n",
       "      <td>1</td>\n",
       "    </tr>\n",
       "  </tbody>\n",
       "</table>\n",
       "</div>"
      ],
      "text/plain": [
       "                                             comment  label\n",
       "0  තම්බි දැනගනිල්ලා. යකෝ හමුදුරුවෝ හදන්නේ මෙක අවු...      1\n",
       "1  මුස්ලිම් ආගම ස්භාව දහමටත් මනුෂ්‍යත්වයටත් විරැද...      1\n",
       "2  අපිට මේ සිද්දියෙන් පිලිතුරක් ඔනේ මුස්ලිම් ආගම ...      1\n",
       "3         තම්බි කෙලොගන්න හදන්නෙ...කට පියාගන හිටපියව්      1\n",
       "5  ඔහොම හරියන්නෙ නෑ තම්බි ටික සමූල ගාතනයක් කරමු උ...      1"
      ]
     },
     "execution_count": 262,
     "metadata": {},
     "output_type": "execute_result"
    }
   ],
   "source": [
    "col_name = ['comment', 'label']\n",
    "df.columns = col_name\n",
    "df.head()"
   ]
  },
  {
   "cell_type": "code",
   "execution_count": 263,
   "metadata": {},
   "outputs": [],
   "source": [
    "X = df['comment']\n",
    "y = df['label']"
   ]
  },
  {
   "cell_type": "code",
   "execution_count": 264,
   "metadata": {},
   "outputs": [],
   "source": [
    "from sklearn.model_selection import train_test_split"
   ]
  },
  {
   "cell_type": "code",
   "execution_count": 265,
   "metadata": {},
   "outputs": [],
   "source": [
    "X_train, X_test, y_train, y_test = train_test_split(X, y, test_size = 0.3, random_state=9)"
   ]
  },
  {
   "cell_type": "code",
   "execution_count": 266,
   "metadata": {},
   "outputs": [],
   "source": [
    "from sklearn.feature_extraction.text import TfidfVectorizer\n"
   ]
  },
  {
   "cell_type": "code",
   "execution_count": 267,
   "metadata": {},
   "outputs": [],
   "source": [
    "vectorizer = TfidfVectorizer()"
   ]
  },
  {
   "cell_type": "code",
   "execution_count": 268,
   "metadata": {},
   "outputs": [],
   "source": [
    "X_train_vec = vectorizer.fit_transform(X_train)\n",
    "X_test_vec = vectorizer.transform(X_test)\n"
   ]
  },
  {
   "cell_type": "code",
   "execution_count": 269,
   "metadata": {},
   "outputs": [],
   "source": [
    "from sklearn import svm"
   ]
  },
  {
   "cell_type": "code",
   "execution_count": 270,
   "metadata": {},
   "outputs": [],
   "source": [
    "C = 0.7\n",
    "clf = svm.SVC(kernel='linear', C=C)\n",
    "#clf = svm.SVC(kernel='rbf', C=C)\n",
    "#clf = svm.LinearSVC(C=C, loss='hinge')"
   ]
  },
  {
   "cell_type": "code",
   "execution_count": 271,
   "metadata": {},
   "outputs": [
    {
     "data": {
      "text/plain": [
       "SVC(C=0.7, cache_size=200, class_weight=None, coef0=0.0,\n",
       "  decision_function_shape='ovr', degree=3, gamma='auto_deprecated',\n",
       "  kernel='linear', max_iter=-1, probability=False, random_state=None,\n",
       "  shrinking=True, tol=0.001, verbose=False)"
      ]
     },
     "execution_count": 271,
     "metadata": {},
     "output_type": "execute_result"
    }
   ],
   "source": [
    "clf.fit(X_train_vec, y_train)"
   ]
  },
  {
   "cell_type": "code",
   "execution_count": 272,
   "metadata": {},
   "outputs": [],
   "source": [
    "from sklearn.model_selection import cross_val_score\n",
    "from sklearn.model_selection import cross_val_predict\n",
    "from sklearn.metrics import confusion_matrix\n",
    "from sklearn.metrics import precision_score, recall_score, f1_score"
   ]
  },
  {
   "cell_type": "code",
   "execution_count": 273,
   "metadata": {},
   "outputs": [
    {
     "name": "stdout",
     "output_type": "stream",
     "text": [
      "Average Accuarcy: \t 0.7261\n",
      "Accuarcy SD: \t\t 0.0668\n"
     ]
    }
   ],
   "source": [
    "res = cross_val_score(clf, X_train_vec, y_train, cv=10, scoring='accuracy')\n",
    "print('Average Accuarcy: \\t {0:.4f}'.format(np.mean(res)))\n",
    "print('Accuarcy SD: \\t\\t {0:.4f}'.format(np.std(res)))"
   ]
  },
  {
   "cell_type": "code",
   "execution_count": 274,
   "metadata": {},
   "outputs": [
    {
     "name": "stdout",
     "output_type": "stream",
     "text": [
      "Average Accuarcy STD: \t 0.6855\n",
      "Accuarcy SD STD: \t\t 0.0781\n"
     ]
    }
   ],
   "source": [
    "res = cross_val_score(clf, X_train_vec_std, y_train, cv=10, scoring='accuracy')\n",
    "print('Average Accuarcy STD: \\t {0:.4f}'.format(np.mean(res)))\n",
    "print('Accuarcy SD STD: \\t\\t {0:.4f}'.format(np.std(res)))"
   ]
  },
  {
   "cell_type": "code",
   "execution_count": 275,
   "metadata": {},
   "outputs": [],
   "source": [
    "y_train_pred = cross_val_predict(clf, X_train_vec, y_train, cv=3)"
   ]
  },
  {
   "cell_type": "code",
   "execution_count": null,
   "metadata": {},
   "outputs": [],
   "source": []
  },
  {
   "cell_type": "code",
   "execution_count": 276,
   "metadata": {},
   "outputs": [
    {
     "data": {
      "text/plain": [
       "array([[100,   2],\n",
       "       [ 46,  17]])"
      ]
     },
     "execution_count": 276,
     "metadata": {},
     "output_type": "execute_result"
    }
   ],
   "source": [
    "confusion_matrix(y_train, y_train_pred)"
   ]
  },
  {
   "cell_type": "code",
   "execution_count": 277,
   "metadata": {},
   "outputs": [
    {
     "name": "stdout",
     "output_type": "stream",
     "text": [
      "Precision score: \t 0.7650\n",
      "Recall score: \t 0.7091\n",
      "F1 score: \t 0.6568\n"
     ]
    }
   ],
   "source": [
    "print('Precision score: \\t {0:0.4f}'.format(precision_score(y_train, \n",
    "                                                          y_train_pred, \n",
    "                                                          average='weighted')))\n",
    "print('Recall score: \\t {0:0.4f}'.format(recall_score(y_train, \n",
    "                                                          y_train_pred, \n",
    "                                                          average='weighted')))\n",
    "print('F1 score: \\t {0:0.4f}'.format(f1_score(y_train, \n",
    "                                                          y_train_pred, \n",
    "                                                          average='weighted')))"
   ]
  },
  {
   "cell_type": "code",
   "execution_count": 278,
   "metadata": {},
   "outputs": [],
   "source": [
    "y_test_pred = cross_val_predict(clf, X_test_vec, y_test, cv=3)"
   ]
  },
  {
   "cell_type": "code",
   "execution_count": 279,
   "metadata": {},
   "outputs": [
    {
     "data": {
      "text/plain": [
       "array([[24, 12],\n",
       "       [18, 17]])"
      ]
     },
     "execution_count": 279,
     "metadata": {},
     "output_type": "execute_result"
    }
   ],
   "source": [
    "confusion_matrix(y_test, y_test_pred)"
   ]
  },
  {
   "cell_type": "code",
   "execution_count": 280,
   "metadata": {},
   "outputs": [
    {
     "name": "stdout",
     "output_type": "stream",
     "text": [
      "Precision score: \t 0.5862\n",
      "Recall score: \t 0.4857\n",
      "F1 score: \t 0.5312\n"
     ]
    }
   ],
   "source": [
    "print('Precision score: \\t {0:0.4f}'.format(precision_score(y_test, \n",
    "                                               y_test_pred)))\n",
    "print('Recall score: \\t {0:0.4f}'.format(recall_score(y_test, \n",
    "                                             y_test_pred)))\n",
    "print('F1 score: \\t {0:0.4f}'.format(f1_score(y_test, \n",
    "                                             y_test_pred)))"
   ]
  },
  {
   "cell_type": "code",
   "execution_count": 281,
   "metadata": {},
   "outputs": [
    {
     "name": "stdout",
     "output_type": "stream",
     "text": [
      "Hate\n"
     ]
    }
   ],
   "source": [
    "#review = np.array(['ගෙරි හම්බයා'])\n",
    "#review = np.array(['ඒ උනාට සිංහල නෑනෙ'])\n",
    "#review = np.array(['ඉල්ලන දෙයක් දෙන්නම් මට සහය දෙන්න'])\n",
    "#review = np.array(['සිංහල'])\n",
    "#review = np.array(['තම්බි'])\n",
    "\n",
    "review.reshape(-1, 1)\n",
    "\n",
    "res = clf.predict(vectorizer.transform(review))\n",
    "\n",
    "if (res == 1):\n",
    "    print('Hate')\n",
    "else:\n",
    "    print('Non hate')    "
   ]
  },
  {
   "cell_type": "code",
   "execution_count": 282,
   "metadata": {},
   "outputs": [],
   "source": [
    "from sklearn.preprocessing import StandardScaler\n",
    "\n",
    "scaler = StandardScaler(with_mean=False)\n",
    "\n",
    "X_train_vec_std = scaler.fit_transform(X_train_vec)\n",
    "X_test_vec_std = scaler.transform(X_test_vec)"
   ]
  },
  {
   "cell_type": "code",
   "execution_count": 283,
   "metadata": {},
   "outputs": [
    {
     "data": {
      "text/plain": [
       "SVC(C=0.7, cache_size=200, class_weight=None, coef0=0.0,\n",
       "  decision_function_shape='ovr', degree=3, gamma='auto_deprecated',\n",
       "  kernel='linear', max_iter=-1, probability=False, random_state=None,\n",
       "  shrinking=True, tol=0.001, verbose=False)"
      ]
     },
     "execution_count": 283,
     "metadata": {},
     "output_type": "execute_result"
    }
   ],
   "source": [
    "clf.fit(X_train_vec_std, y_train)"
   ]
  },
  {
   "cell_type": "code",
   "execution_count": 284,
   "metadata": {},
   "outputs": [
    {
     "name": "stdout",
     "output_type": "stream",
     "text": [
      "Average Accuarcy STD: \t 0.6855\n",
      "Accuarcy SD STD: \t\t 0.0781\n"
     ]
    }
   ],
   "source": [
    "res = cross_val_score(clf, X_train_vec_std, y_train, cv=10, scoring='accuracy')\n",
    "print('Average Accuarcy STD: \\t {0:.4f}'.format(np.mean(res)))\n",
    "print('Accuarcy SD STD: \\t\\t {0:.4f}'.format(np.std(res)))"
   ]
  },
  {
   "cell_type": "code",
   "execution_count": 285,
   "metadata": {},
   "outputs": [],
   "source": [
    "y_train_pred_std = cross_val_predict(clf, X_train_vec_std, y_train, cv=3)"
   ]
  },
  {
   "cell_type": "code",
   "execution_count": 286,
   "metadata": {},
   "outputs": [
    {
     "data": {
      "text/plain": [
       "array([[97,  5],\n",
       "       [42, 21]])"
      ]
     },
     "execution_count": 286,
     "metadata": {},
     "output_type": "execute_result"
    }
   ],
   "source": [
    "confusion_matrix(y_train, y_train_pred_std)"
   ]
  },
  {
   "cell_type": "code",
   "execution_count": 287,
   "metadata": {},
   "outputs": [
    {
     "name": "stdout",
     "output_type": "stream",
     "text": [
      "Precision score STD: \t 0.7398\n",
      "Recall score STD: \t 0.7152\n",
      "F1 score STD: \t 0.6778\n"
     ]
    }
   ],
   "source": [
    "print('Precision score STD: \\t {0:0.4f}'.format(precision_score(y_train, \n",
    "                                                          y_train_pred_std, \n",
    "                                                          average='weighted')))\n",
    "print('Recall score STD: \\t {0:0.4f}'.format(recall_score(y_train, \n",
    "                                                          y_train_pred_std, \n",
    "                                                          average='weighted')))\n",
    "print('F1 score STD: \\t {0:0.4f}'.format(f1_score(y_train, \n",
    "                                                          y_train_pred_std, \n",
    "                                                          average='weighted')))"
   ]
  },
  {
   "cell_type": "code",
   "execution_count": 288,
   "metadata": {},
   "outputs": [],
   "source": [
    "y_test_pred_std = cross_val_predict(clf, X_test_vec_std, y_test, cv=3)"
   ]
  },
  {
   "cell_type": "code",
   "execution_count": 289,
   "metadata": {},
   "outputs": [
    {
     "data": {
      "text/plain": [
       "array([[30,  6],\n",
       "       [22, 13]])"
      ]
     },
     "execution_count": 289,
     "metadata": {},
     "output_type": "execute_result"
    }
   ],
   "source": [
    "confusion_matrix(y_test, y_test_pred_std)"
   ]
  },
  {
   "cell_type": "code",
   "execution_count": 290,
   "metadata": {},
   "outputs": [
    {
     "name": "stdout",
     "output_type": "stream",
     "text": [
      "Precision score STD: \t 0.6842\n",
      "Recall score STD: \t 0.3714\n",
      "F1 score STD: \t 0.4815\n"
     ]
    }
   ],
   "source": [
    "print('Precision score STD: \\t {0:0.4f}'.format(precision_score(y_test, \n",
    "                                               y_test_pred_std)))\n",
    "print('Recall score STD: \\t {0:0.4f}'.format(recall_score(y_test, \n",
    "                                             y_test_pred_std)))\n",
    "print('F1 score STD: \\t {0:0.4f}'.format(f1_score(y_test, \n",
    "                                             y_test_pred_std)))"
   ]
  },
  {
   "cell_type": "code",
   "execution_count": null,
   "metadata": {},
   "outputs": [],
   "source": []
  }
 ],
 "metadata": {
  "kernelspec": {
   "display_name": "tensorflow_dev",
   "language": "python",
   "name": "tensorflow_dev"
  },
  "language_info": {
   "codemirror_mode": {
    "name": "ipython",
    "version": 3
   },
   "file_extension": ".py",
   "mimetype": "text/x-python",
   "name": "python",
   "nbconvert_exporter": "python",
   "pygments_lexer": "ipython3",
   "version": "3.6.8"
  }
 },
 "nbformat": 4,
 "nbformat_minor": 2
}
